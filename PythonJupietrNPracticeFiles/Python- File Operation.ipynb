{
 "cells": [
  {
   "cell_type": "code",
   "execution_count": 1,
   "metadata": {},
   "outputs": [
    {
     "name": "stdout",
     "output_type": "stream",
     "text": [
      "['SN, Name, City']\n",
      "['1, John, Washington']\n",
      "['2, Eric, Los Angeles']\n",
      "['3, Brad, Texas']\n"
     ]
    }
   ],
   "source": [
    "import csv\n",
    "with open('people.csv', 'r') as csvFile:\n",
    "    reader = csv.reader(csvFile)\n",
    "    for row in reader:\n",
    "        print(row)\n",
    "csvFile.close()"
   ]
  },
  {
   "cell_type": "code",
   "execution_count": 2,
   "metadata": {},
   "outputs": [
    {
     "name": "stdout",
     "output_type": "stream",
     "text": [
      "['SN', ' Name', ' City']\n",
      "['1', ' John', ' Washington']\n",
      "['2', ' Eric', ' Los Angeles']\n",
      "['3', ' Brad', ' Texas']\n"
     ]
    }
   ],
   "source": [
    "import csv\n",
    "with open('testcsv.txt', 'r') as csvFile:\n",
    "    reader = csv.reader(csvFile)\n",
    "    for row in reader:\n",
    "        print(row)\n",
    "csvFile.close()\n"
   ]
  },
  {
   "cell_type": "code",
   "execution_count": 5,
   "metadata": {},
   "outputs": [
    {
     "name": "stdout",
     "output_type": "stream",
     "text": [
      "['pencil', 'eraser', 'sharpner']\n",
      "['book', 'chair', 'table']\n",
      "['apple', 'mango', 'grapes']\n"
     ]
    }
   ],
   "source": [
    "import csv\n",
    "csv.register_dialect('myDialect', delimiter = '|')\n",
    "with open('testcsv.txt', 'r') as f:\n",
    "    reader = csv.reader(f, dialect='myDialect')\n",
    "    for row in reader:\n",
    "        print(row)\n"
   ]
  },
  {
   "cell_type": "code",
   "execution_count": 6,
   "metadata": {},
   "outputs": [],
   "source": [
    "with open(\"test.txt\",'w',encoding = 'utf-8') as f:\n",
    "   f.write(\"my first file\\n\")\n",
    "   f.write(\"This file\\n\\n\")\n",
    "   f.write(\"contains three lines\\n\")"
   ]
  },
  {
   "cell_type": "code",
   "execution_count": 9,
   "metadata": {},
   "outputs": [
    {
     "data": {
      "text/plain": [
       "'my first file\\nThis file\\n\\ncontains three lines\\n'"
      ]
     },
     "execution_count": 9,
     "metadata": {},
     "output_type": "execute_result"
    }
   ],
   "source": [
    "f = open(\"test.txt\",'r',encoding = 'utf-8')\n",
    "f.read()\n",
    "f.tell() \n",
    "f.seek(0)\n",
    "f.read()"
   ]
  },
  {
   "cell_type": "code",
   "execution_count": 13,
   "metadata": {},
   "outputs": [
    {
     "name": "stdout",
     "output_type": "stream",
     "text": [
      "C:\\Users\\Rajesh Kumar Gupta\\Documents\\GitProjects\\PythonCodes\n",
      "['.ipynb_checkpoints', 'DbOperation.py', 'people.csv', 'Python- File Operation.ipynb', 'Python-Simple Integer Commands.ipynb', 'Python-Simple String Commands.ipynb', 'PythonPorgTaskList.xlsx', 'Test.py', 'test.txt', 'testcsv - Copy.txt', 'testcsv.txt', 'testDir', 'testDir1', 'TestFile.html', '~$PythonPorgTaskList.xlsx']\n"
     ]
    }
   ],
   "source": [
    "import os\n",
    "\n",
    "print(os.getcwd())\n",
    "\n",
    "print(os.listdir())\n",
    "\n",
    "os.rename('testDir1','testDir3')"
   ]
  },
  {
   "cell_type": "code",
   "execution_count": 6,
   "metadata": {},
   "outputs": [
    {
     "name": "stdout",
     "output_type": "stream",
     "text": [
      "    Topics Unnamed: 1 Unnamed: 2  Unnamed: 3 Comments\n",
      "0      NaN        NaN        NaN         NaN      NaN\n",
      "1  String        Read       Done         NaN      NaN\n",
      "2      NaN        NaN        NaN         NaN      NaN\n",
      "3      NaN        NaN        NaN         NaN      NaN\n",
      "4  Integer       Read       Done         NaN      NaN\n"
     ]
    },
    {
     "data": {
      "text/html": [
       "<div>\n",
       "<style scoped>\n",
       "    .dataframe tbody tr th:only-of-type {\n",
       "        vertical-align: middle;\n",
       "    }\n",
       "\n",
       "    .dataframe tbody tr th {\n",
       "        vertical-align: top;\n",
       "    }\n",
       "\n",
       "    .dataframe thead th {\n",
       "        text-align: right;\n",
       "    }\n",
       "</style>\n",
       "<table border=\"1\" class=\"dataframe\">\n",
       "  <thead>\n",
       "    <tr style=\"text-align: right;\">\n",
       "      <th></th>\n",
       "      <th>SN, Name, City</th>\n",
       "    </tr>\n",
       "  </thead>\n",
       "  <tbody>\n",
       "    <tr>\n",
       "      <th>0</th>\n",
       "      <td>1, John, Washington</td>\n",
       "    </tr>\n",
       "    <tr>\n",
       "      <th>1</th>\n",
       "      <td>2, Eric, Los Angeles</td>\n",
       "    </tr>\n",
       "    <tr>\n",
       "      <th>2</th>\n",
       "      <td>3, Brad, Texas</td>\n",
       "    </tr>\n",
       "  </tbody>\n",
       "</table>\n",
       "</div>"
      ],
      "text/plain": [
       "         SN, Name, City\n",
       "0   1, John, Washington\n",
       "1  2, Eric, Los Angeles\n",
       "2        3, Brad, Texas"
      ]
     },
     "execution_count": 6,
     "metadata": {},
     "output_type": "execute_result"
    }
   ],
   "source": [
    "# Read and Print Excel File data \n",
    "\n",
    "import pandas as pd\n",
    "df = pd.read_excel(io='DataScienceProgTaskList.xlsx', sheet_name='Python')\n",
    "print(df.head(5))  # print first 5 rows of the dataframe\n",
    "pd.read_csv('people.csv')\n"
   ]
  },
  {
   "cell_type": "code",
   "execution_count": 7,
   "metadata": {},
   "outputs": [
    {
     "name": "stdout",
     "output_type": "stream",
     "text": [
      "    Topics Unnamed: 1 Unnamed: 2  Unnamed: 3 Comments\n",
      "0      NaN        NaN        NaN         NaN      NaN\n",
      "1  String        Read       Done         NaN      NaN\n",
      "2      NaN        NaN        NaN         NaN      NaN\n",
      "3      NaN        NaN        NaN         NaN      NaN\n",
      "4  Integer       Read       Done         NaN      NaN\n"
     ]
    },
    {
     "data": {
      "text/html": [
       "<div>\n",
       "<style scoped>\n",
       "    .dataframe tbody tr th:only-of-type {\n",
       "        vertical-align: middle;\n",
       "    }\n",
       "\n",
       "    .dataframe tbody tr th {\n",
       "        vertical-align: top;\n",
       "    }\n",
       "\n",
       "    .dataframe thead th {\n",
       "        text-align: right;\n",
       "    }\n",
       "</style>\n",
       "<table border=\"1\" class=\"dataframe\">\n",
       "  <thead>\n",
       "    <tr style=\"text-align: right;\">\n",
       "      <th></th>\n",
       "      <th>SN, Name, City</th>\n",
       "    </tr>\n",
       "  </thead>\n",
       "  <tbody>\n",
       "    <tr>\n",
       "      <th>0</th>\n",
       "      <td>1, John, Washington</td>\n",
       "    </tr>\n",
       "    <tr>\n",
       "      <th>1</th>\n",
       "      <td>2, Eric, Los Angeles</td>\n",
       "    </tr>\n",
       "    <tr>\n",
       "      <th>2</th>\n",
       "      <td>3, Brad, Texas</td>\n",
       "    </tr>\n",
       "  </tbody>\n",
       "</table>\n",
       "</div>"
      ],
      "text/plain": [
       "         SN, Name, City\n",
       "0   1, John, Washington\n",
       "1  2, Eric, Los Angeles\n",
       "2        3, Brad, Texas"
      ]
     },
     "execution_count": 7,
     "metadata": {},
     "output_type": "execute_result"
    }
   ],
   "source": [
    "import pandas as pd\n",
    "df = pd.read_excel(io='DataScienceProgTaskList.xlsx', sheet_name='Python')\n",
    "print(df.head(5))  # print first 5 rows of the dataframe\n",
    "pd.read_csv('people.csv')\n"
   ]
  },
  {
   "cell_type": "code",
   "execution_count": null,
   "metadata": {},
   "outputs": [],
   "source": []
  }
 ],
 "metadata": {
  "kernelspec": {
   "display_name": "Python 3",
   "language": "python",
   "name": "python3"
  },
  "language_info": {
   "codemirror_mode": {
    "name": "ipython",
    "version": 3
   },
   "file_extension": ".py",
   "mimetype": "text/x-python",
   "name": "python",
   "nbconvert_exporter": "python",
   "pygments_lexer": "ipython3",
   "version": "3.6.5"
  }
 },
 "nbformat": 4,
 "nbformat_minor": 2
}
