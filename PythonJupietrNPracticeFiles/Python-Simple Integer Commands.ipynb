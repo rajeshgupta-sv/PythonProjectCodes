{
 "cells": [
  {
   "cell_type": "code",
   "execution_count": 1,
   "metadata": {},
   "outputs": [
    {
     "name": "stdout",
     "output_type": "stream",
     "text": [
      "15\n"
     ]
    }
   ],
   "source": [
    "a=15.5\n",
    " \n",
    "print(int(a))"
   ]
  },
  {
   "cell_type": "code",
   "execution_count": 2,
   "metadata": {},
   "outputs": [
    {
     "name": "stdout",
     "output_type": "stream",
     "text": [
      "15.57\n"
     ]
    }
   ],
   "source": [
    "a=15.5652645\n",
    " \n",
    "print(round(a,2))"
   ]
  },
  {
   "cell_type": "code",
   "execution_count": 5,
   "metadata": {},
   "outputs": [
    {
     "data": {
      "text/plain": [
       "Decimal('5.5')"
      ]
     },
     "execution_count": 5,
     "metadata": {},
     "output_type": "execute_result"
    }
   ],
   "source": [
    "from decimal import *\n",
    " \n",
    "a=Decimal(5.5)\n",
    "\n",
    "a"
   ]
  },
  {
   "cell_type": "code",
   "execution_count": 6,
   "metadata": {},
   "outputs": [
    {
     "name": "stdout",
     "output_type": "stream",
     "text": [
      "0.11492666729137047\n"
     ]
    }
   ],
   "source": [
    "import random\n",
    " \n",
    "print(random.random())"
   ]
  },
  {
   "cell_type": "code",
   "execution_count": 7,
   "metadata": {},
   "outputs": [
    {
     "name": "stdout",
     "output_type": "stream",
     "text": [
      "0.7577165519502889\n"
     ]
    }
   ],
   "source": [
    "import random\n",
    " \n",
    "print(random.random())"
   ]
  },
  {
   "cell_type": "code",
   "execution_count": 8,
   "metadata": {},
   "outputs": [
    {
     "name": "stdout",
     "output_type": "stream",
     "text": [
      "[5]\n"
     ]
    }
   ],
   "source": [
    "import random\n",
    " \n",
    "numbers=[1,2,3,4,5,6,7]\n",
    " \n",
    "print(random.choices(numbers))"
   ]
  },
  {
   "cell_type": "code",
   "execution_count": 9,
   "metadata": {},
   "outputs": [
    {
     "name": "stdout",
     "output_type": "stream",
     "text": [
      "[3]\n"
     ]
    }
   ],
   "source": [
    "import random\n",
    " \n",
    "numbers=[1,2,3,4,5,6,7]\n",
    " \n",
    "print(random.choices(numbers))"
   ]
  },
  {
   "cell_type": "code",
   "execution_count": 10,
   "metadata": {},
   "outputs": [
    {
     "name": "stdout",
     "output_type": "stream",
     "text": [
      "2019-09-26 14:25:51.608092\n",
      "2019\n",
      "26\n",
      "3\n",
      "9\n",
      "14:25:51.608092\n"
     ]
    }
   ],
   "source": [
    "import datetime\n",
    " \n",
    "cur_date = datetime.datetime.now()\n",
    " \n",
    "print(cur_date)\n",
    " \n",
    "print(cur_date.year)\n",
    " \n",
    "print(cur_date.day)\n",
    " \n",
    "print(cur_date.weekday())\n",
    " \n",
    "print(cur_date.month)\n",
    " \n",
    "print(cur_date.time())"
   ]
  },
  {
   "cell_type": "code",
   "execution_count": 12,
   "metadata": {},
   "outputs": [
    {
     "name": "stdout",
     "output_type": "stream",
     "text": [
      "0:00:00\n"
     ]
    }
   ],
   "source": [
    "import datetime\n",
    " \n",
    "time1 = datetime.datetime.now()\n",
    " \n",
    "time2 = datetime.datetime.now()\n",
    " \n",
    "timediff = time2 - time1\n",
    " \n",
    "print(timediff)"
   ]
  },
  {
   "cell_type": "code",
   "execution_count": 15,
   "metadata": {},
   "outputs": [
    {
     "name": "stdout",
     "output_type": "stream",
     "text": [
      "2019-09-29\n"
     ]
    }
   ],
   "source": [
    "time1 = datetime.datetime.now()\n",
    " \n",
    "time2 = datetime.timedelta(days=3)\n",
    " \n",
    "time3=time1+time2\n",
    " \n",
    "print(time3.date())\n"
   ]
  },
  {
   "cell_type": "code",
   "execution_count": 16,
   "metadata": {},
   "outputs": [
    {
     "name": "stdout",
     "output_type": "stream",
     "text": [
      "26. September 2019 02:28PM\n"
     ]
    }
   ],
   "source": [
    "import datetime\n",
    " \n",
    "date1 = datetime.datetime.now()\n",
    " \n",
    "print(date1.strftime('%d. %B %Y %I:%M%p'))"
   ]
  },
  {
   "cell_type": "code",
   "execution_count": 1,
   "metadata": {},
   "outputs": [
    {
     "name": "stdout",
     "output_type": "stream",
     "text": [
      "1\n",
      "2\n",
      "3\n",
      "4\n",
      "5\n"
     ]
    }
   ],
   "source": [
    "i = 1\n",
    "while i < 6:\n",
    "  print(i)\n",
    "  i += 1"
   ]
  },
  {
   "cell_type": "code",
   "execution_count": null,
   "metadata": {},
   "outputs": [],
   "source": []
  }
 ],
 "metadata": {
  "kernelspec": {
   "display_name": "Python 3",
   "language": "python",
   "name": "python3"
  },
  "language_info": {
   "codemirror_mode": {
    "name": "ipython",
    "version": 3
   },
   "file_extension": ".py",
   "mimetype": "text/x-python",
   "name": "python",
   "nbconvert_exporter": "python",
   "pygments_lexer": "ipython3",
   "version": "3.6.5"
  }
 },
 "nbformat": 4,
 "nbformat_minor": 2
}
